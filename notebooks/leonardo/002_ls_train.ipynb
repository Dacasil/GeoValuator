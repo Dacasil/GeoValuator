{
 "cells": [
  {
   "cell_type": "code",
   "execution_count": null,
   "id": "ae2c7245",
   "metadata": {},
   "outputs": [],
   "source": [
    "from GeoValuator import DATA_DIR\n",
    "import os\n",
    "import yaml\n",
    "import geopandas as gpd\n",
    "import pandas as pd\n",
    "import numpy as np\n",
    "import matplotlib.pyplot as plt\n"
   ]
  },
  {
   "cell_type": "code",
   "execution_count": null,
   "id": "59e16d35",
   "metadata": {},
   "outputs": [],
   "source": [
    "# Load data for every folder\n",
    "# load the config and take the price values per name of the district\n",
    "# label the data\n"
   ]
  },
  {
   "cell_type": "code",
   "execution_count": null,
   "id": "ccaa06ab",
   "metadata": {},
   "outputs": [],
   "source": [
    "# Prepare data to train: Split into train val test\n",
    "# Load pretrained CNN EfficientNet (B2-B4)\n",
    "# \n"
   ]
  }
 ],
 "metadata": {
  "kernelspec": {
   "display_name": "GeoValuator",
   "language": "python",
   "name": "python3"
  },
  "language_info": {
   "codemirror_mode": {
    "name": "ipython",
    "version": 3
   },
   "file_extension": ".py",
   "mimetype": "text/x-python",
   "name": "python",
   "nbconvert_exporter": "python",
   "pygments_lexer": "ipython3",
   "version": "3.10.13"
  }
 },
 "nbformat": 4,
 "nbformat_minor": 5
}
