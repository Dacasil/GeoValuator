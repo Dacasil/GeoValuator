{
 "cells": [
  {
   "cell_type": "code",
   "execution_count": 1,
   "id": "67944f37",
   "metadata": {
    "_cell_guid": "b1076dfc-b9ad-4769-8c92-a6c4dae69d19",
    "_uuid": "8f2839f25d086af736a60e9eeb907d3b93b6e0e5",
    "execution": {
     "iopub.execute_input": "2025-10-05T18:02:03.708214Z",
     "iopub.status.busy": "2025-10-05T18:02:03.707947Z",
     "iopub.status.idle": "2025-10-05T18:02:19.643642Z",
     "shell.execute_reply": "2025-10-05T18:02:19.643026Z"
    },
    "papermill": {
     "duration": 15.940577,
     "end_time": "2025-10-05T18:02:19.645017",
     "exception": false,
     "start_time": "2025-10-05T18:02:03.704440",
     "status": "completed"
    },
    "tags": []
   },
   "outputs": [],
   "source": [
    "import os\n",
    "import random\n",
    "import pandas as pd\n",
    "import numpy as np\n",
    "from sklearn.model_selection import train_test_split\n",
    "from PIL import Image\n",
    "import torch\n",
    "from torch.utils.data import Dataset, DataLoader\n",
    "import torchvision.transforms as transforms\n",
    "from tqdm import tqdm\n",
    "import glob\n",
    "import json\n",
    "import torch\n",
    "import torch.nn as nn\n",
    "import torch.optim as optim\n",
    "from torch.optim.lr_scheduler import StepLR\n",
    "import timm\n",
    "from tqdm import tqdm\n",
    "import matplotlib.pyplot as plt\n",
    "from torch.utils.data import Dataset, DataLoader\n",
    "from PIL import Image\n",
    "from sklearn.metrics import r2_score"
   ]
  },
  {
   "cell_type": "code",
   "execution_count": 2,
   "id": "15a1c582",
   "metadata": {
    "execution": {
     "iopub.execute_input": "2025-10-05T18:02:19.649837Z",
     "iopub.status.busy": "2025-10-05T18:02:19.649594Z",
     "iopub.status.idle": "2025-10-05T18:02:19.652982Z",
     "shell.execute_reply": "2025-10-05T18:02:19.652420Z"
    },
    "papermill": {
     "duration": 0.00676,
     "end_time": "2025-10-05T18:02:19.654046",
     "exception": false,
     "start_time": "2025-10-05T18:02:19.647286",
     "status": "completed"
    },
    "tags": []
   },
   "outputs": [],
   "source": [
    "############# Path Configuration #############\n",
    "DATA_STRUCTURE_PATH = \"/kaggle/input/muen-structure/download_checkpoint_muen_old.json\"\n",
    "IMAGE_BASE_DIR = \"/kaggle/input/muenchen-data/muenchen_images\"\n",
    "MODELS_DIR = \"best_regression_model_muenchen.pth\"\n",
    "\n",
    "NUM_EPOCHS_1 = 4\n",
    "NUM_EPOCHS_2 = 2"
   ]
  },
  {
   "cell_type": "code",
   "execution_count": 3,
   "id": "422dc859",
   "metadata": {
    "execution": {
     "iopub.execute_input": "2025-10-05T18:02:19.658041Z",
     "iopub.status.busy": "2025-10-05T18:02:19.657834Z",
     "iopub.status.idle": "2025-10-05T18:02:19.666761Z",
     "shell.execute_reply": "2025-10-05T18:02:19.666258Z"
    },
    "papermill": {
     "duration": 0.012062,
     "end_time": "2025-10-05T18:02:19.667799",
     "exception": false,
     "start_time": "2025-10-05T18:02:19.655737",
     "status": "completed"
    },
    "tags": []
   },
   "outputs": [],
   "source": [
    "def set_seed():\n",
    "    seed = 28\n",
    "    random.seed(seed)\n",
    "    np.random.seed(seed)\n",
    "    torch.manual_seed(seed)\n",
    "    torch.cuda.manual_seed(seed)\n",
    "    torch.cuda.manual_seed_all(seed)\n",
    "    torch.backends.cudnn.benchmark = False\n",
    "    torch.backends.cudnn.deterministic = True\n",
    "set_seed()"
   ]
  },
  {
   "cell_type": "code",
   "execution_count": 4,
   "id": "6f997e17",
   "metadata": {
    "execution": {
     "iopub.execute_input": "2025-10-05T18:02:19.671762Z",
     "iopub.status.busy": "2025-10-05T18:02:19.671546Z",
     "iopub.status.idle": "2025-10-05T18:02:19.732756Z",
     "shell.execute_reply": "2025-10-05T18:02:19.731927Z"
    },
    "papermill": {
     "duration": 0.064412,
     "end_time": "2025-10-05T18:02:19.733874",
     "exception": false,
     "start_time": "2025-10-05T18:02:19.669462",
     "status": "completed"
    },
    "tags": []
   },
   "outputs": [
    {
     "name": "stdout",
     "output_type": "stream",
     "text": [
      "Using device: cuda\n"
     ]
    }
   ],
   "source": [
    "# GPU Setup\n",
    "device = torch.device('cuda' if torch.cuda.is_available() else 'cpu')\n",
    "print(f\"Using device: {device}\")"
   ]
  },
  {
   "cell_type": "code",
   "execution_count": 5,
   "id": "86cc5e14",
   "metadata": {
    "execution": {
     "iopub.execute_input": "2025-10-05T18:02:19.738931Z",
     "iopub.status.busy": "2025-10-05T18:02:19.738694Z",
     "iopub.status.idle": "2025-10-05T18:02:19.771811Z",
     "shell.execute_reply": "2025-10-05T18:02:19.771070Z"
    },
    "papermill": {
     "duration": 0.037409,
     "end_time": "2025-10-05T18:02:19.773170",
     "exception": false,
     "start_time": "2025-10-05T18:02:19.735761",
     "status": "completed"
    },
    "tags": []
   },
   "outputs": [],
   "source": [
    "class StreetViewDataset(Dataset):\n",
    "    def __init__(self, dataframe, transform=None):\n",
    "        self.dataframe = dataframe\n",
    "        self.transform = transform\n",
    "        \n",
    "    def __len__(self):\n",
    "        return len(self.dataframe)\n",
    "    \n",
    "    def __getitem__(self, idx):\n",
    "        img_path = self.dataframe.iloc[idx]['image_path']\n",
    "        label = self.dataframe.iloc[idx]['label']\n",
    "        \n",
    "        image = Image.open(img_path).convert('RGB')\n",
    "        \n",
    "        if self.transform:\n",
    "            image = self.transform(image)\n",
    "            \n",
    "        return image, label\n",
    "\n",
    "# Classification Model\n",
    "class EfficientNetClassifier(nn.Module):\n",
    "    def __init__(self, num_classes=10, model_name='efficientnet_b3'):\n",
    "        super(EfficientNetClassifier, self).__init__()\n",
    "        \n",
    "        self.backbone = timm.create_model(model_name, \n",
    "                                         pretrained=True,\n",
    "                                         num_classes=0,\n",
    "                                         global_pool='avg')\n",
    "        \n",
    "        self.classifier = nn.Sequential(\n",
    "            nn.Dropout(0.2),\n",
    "            nn.Linear(self.backbone.num_features, 512),\n",
    "            nn.ReLU(),\n",
    "            nn.Dropout(0.3),\n",
    "            nn.Linear(512, num_classes)\n",
    "        )\n",
    "        \n",
    "    def forward(self, x):\n",
    "        features = self.backbone(x)\n",
    "        output = self.classifier(features)\n",
    "        return output\n",
    "\n",
    "def train_model(model, train_loader, val_loader, criterion, optimizer, num_epochs, scheduler=None):\n",
    "    model = model.to(device)\n",
    "    train_losses = []\n",
    "    val_losses = []\n",
    "    train_accuracies = []\n",
    "    val_accuracies = []\n",
    "    best_val_accuracy = 0.0\n",
    "    \n",
    "    for epoch in range(num_epochs):\n",
    "        model.train()\n",
    "        running_loss = 0.0\n",
    "        correct_train = 0\n",
    "        total_train = 0\n",
    "        \n",
    "        for images, labels in tqdm(train_loader):\n",
    "            \n",
    "            images = images.to(device)\n",
    "            labels = labels.long().to(device)\n",
    "            \n",
    "            # Forward pass\n",
    "            optimizer.zero_grad()\n",
    "            outputs = model(images)\n",
    "            loss = criterion(outputs, labels)\n",
    "            \n",
    "            # Backward pass\n",
    "            loss.backward()\n",
    "            optimizer.step()\n",
    "            \n",
    "            # Calculate training accuracy\n",
    "            _, predicted = torch.max(outputs.data, 1)\n",
    "            total_train += labels.size(0)\n",
    "            correct_train += (predicted == labels).sum().item()\n",
    "            \n",
    "            running_loss += loss.item() * images.size(0)\n",
    "            \n",
    "            # Update progress bar with current metrics\n",
    "            current_acc = 100 * correct_train / total_train\n",
    "        \n",
    "        # Calculate epoch training metrics\n",
    "        epoch_train_loss = running_loss / len(train_loader.dataset)\n",
    "        epoch_train_acc = 100 * correct_train / total_train\n",
    "        \n",
    "        # Validation phase\n",
    "        model.eval()\n",
    "        val_loss = 0.0\n",
    "        correct_val = 0\n",
    "        total_val = 0\n",
    "        \n",
    "        with torch.no_grad():\n",
    "            for images, labels in val_loader:\n",
    "                \n",
    "                images = images.to(device)\n",
    "                labels = labels.long().to(device)\n",
    "                \n",
    "                outputs = model(images)\n",
    "                loss = criterion(outputs, labels)\n",
    "                val_loss += loss.item() * images.size(0)\n",
    "                \n",
    "                # Calculate validation accuracy\n",
    "                _, predicted = torch.max(outputs.data, 1)\n",
    "                total_val += labels.size(0)\n",
    "                correct_val += (predicted == labels).sum().item()\n",
    "        \n",
    "        # Calculate epoch validation metrics\n",
    "        epoch_val_loss = val_loss / len(val_loader.dataset)\n",
    "        epoch_val_acc = 100 * correct_val / total_val\n",
    "        \n",
    "        # Store metrics\n",
    "        train_losses.append(epoch_train_loss)\n",
    "        val_losses.append(epoch_val_loss)\n",
    "        train_accuracies.append(epoch_train_acc)\n",
    "        val_accuracies.append(epoch_val_acc)\n",
    "        \n",
    "        # Step scheduler\n",
    "        if scheduler:\n",
    "            scheduler.step()\n",
    "        \n",
    "        # Print detailed epoch summary\n",
    "        print(f'\\nEpoch {epoch+1}/{num_epochs}:')\n",
    "        print(f'  Train Loss: {epoch_train_loss:},Train Acc: {epoch_train_acc:}%')\n",
    "        print(f'  Val Loss:   {epoch_val_loss:}, Val Acc:   {epoch_val_acc:}%')\n",
    "        \n",
    "        # Save best model based on validation accuracy\n",
    "        if epoch_val_acc > best_val_accuracy:\n",
    "            best_val_accuracy = epoch_val_acc\n",
    "            torch.save(model.state_dict(), 'best_model.pth')\n",
    "            print(f'  ↳ New best model saved! (Val Acc: {epoch_val_acc:.2f}%)')\n",
    "    \n",
    "    return train_losses, val_losses, train_accuracies, val_accuracies\n",
    "\n",
    "def plot_metrics(train_losses, val_losses, train_accuracies, val_accuracies):\n",
    "    fig, (ax1, ax2) = plt.subplots(1, 2, figsize=(15, 5))\n",
    "    \n",
    "    # Plot losses\n",
    "    ax1.plot(train_losses, label='Train Loss')\n",
    "    ax1.plot(val_losses, label='Val Loss')\n",
    "    ax1.set_title('Training and Validation Loss')\n",
    "    ax1.set_xlabel('Epoch')\n",
    "    ax1.set_ylabel('Loss')\n",
    "    ax1.legend()\n",
    "    \n",
    "    # Plot accuracies\n",
    "    ax2.plot(train_accuracies, label='Train Accuracy')\n",
    "    ax2.plot(val_accuracies, label='Val Accuracy')\n",
    "    ax2.set_title('Training and Validation Accuracy')\n",
    "    ax2.set_xlabel('Epoch')\n",
    "    ax2.set_ylabel('Accuracy (%)')\n",
    "    ax2.legend()\n",
    "    \n",
    "    plt.tight_layout()\n",
    "    plt.show()\n",
    "\n",
    "# Evaluation\n",
    "def evaluate_model(model, test_loader):\n",
    "    model.eval()\n",
    "    model = model.to(device)\n",
    "    correct = 0\n",
    "    total = 0\n",
    "    \n",
    "    with torch.no_grad():\n",
    "        for images, labels in test_loader:\n",
    "            images = images.to(device)\n",
    "            labels = labels.long().to(device)\n",
    "            \n",
    "            outputs = model(images)\n",
    "            _, predicted = torch.max(outputs.data, 1)\n",
    "            total += labels.size(0)\n",
    "            correct += (predicted == labels).sum().item()\n",
    "    \n",
    "    accuracy = 100 * correct / total\n",
    "    print(f'Test Accuracy: {accuracy:.2f}%')\n",
    "    return accuracy\n",
    "\n",
    "def create_binned_dataframe(num_bins):\n",
    "    with open(DATA_STRUCTURE_PATH, 'r') as f:\n",
    "        data = json.load(f)\n",
    "\n",
    "    # Create district to price mapping\n",
    "    district_price_mapping = {}\n",
    "    for item in data['successful_downloads']:\n",
    "        district = item['district']\n",
    "        price = item['normalized_price']\n",
    "        district_price_mapping[district] = price\n",
    "\n",
    "    # Create bins based on the specified number\n",
    "    all_prices = [p for p in district_price_mapping.values() if p is not None]\n",
    "    \n",
    "    # Create bins\n",
    "    bins = pd.cut(all_prices, bins=num_bins, labels=False, duplicates='drop')\n",
    "    \n",
    "    # Create district to bin mapping\n",
    "    district_bin_mapping = {}\n",
    "    districts = list(district_price_mapping.keys())\n",
    "    for i, district in enumerate(districts):\n",
    "        if i < len(bins):\n",
    "            district_bin_mapping[district] = bins[i]\n",
    "\n",
    "    # Load images and assign bin labels\n",
    "    image_paths = []\n",
    "    image_labels = []\n",
    "    district_names_list = []\n",
    "\n",
    "    all_district_folders = [d for d in os.listdir(IMAGE_BASE_DIR) \n",
    "                           if os.path.isdir(os.path.join(IMAGE_BASE_DIR, d))]\n",
    "\n",
    "    for district_folder in all_district_folders:\n",
    "        if district_folder in district_bin_mapping:\n",
    "            bin_id = district_bin_mapping[district_folder]\n",
    "            district_image_dir = os.path.join(IMAGE_BASE_DIR, district_folder)\n",
    "            \n",
    "            pattern = os.path.join(district_image_dir, '*.jpg')\n",
    "            image_files = glob.glob(pattern)\n",
    "            \n",
    "            for image_path in image_files:\n",
    "                image_paths.append(image_path)\n",
    "                image_labels.append(bin_id)\n",
    "                district_names_list.append(district_folder)\n",
    "\n",
    "    return pd.DataFrame({\n",
    "        'image_path': image_paths,\n",
    "        'label': image_labels,\n",
    "        'district': district_names_list\n",
    "    })\n",
    "\n",
    "def run_experiment(num_bins):\n",
    "    print(f\"Training {num_bins} bins\")\n",
    "    \n",
    "    # Create dataset with specified number of bins\n",
    "    image_df = create_binned_dataframe(num_bins)\n",
    "    \n",
    "    # Split data\n",
    "    label_groups = {}\n",
    "    for label in image_df['label'].unique():\n",
    "        label_groups[label] = image_df[image_df['label'] == label]\n",
    "\n",
    "    train_dfs, val_dfs, test_dfs = [], [], []\n",
    "    \n",
    "    for label, group in label_groups.items():\n",
    "        train_val, test = train_test_split(group, test_size=0.0654, random_state=42)\n",
    "        train, val = train_test_split(train_val, test_size=0.07, random_state=42)\n",
    "        \n",
    "        train_dfs.append(train)\n",
    "        val_dfs.append(val)\n",
    "        test_dfs.append(test)\n",
    "\n",
    "    train_df = pd.concat(train_dfs).reset_index(drop=True)\n",
    "    val_df = pd.concat(val_dfs).reset_index(drop=True)\n",
    "    test_df = pd.concat(test_dfs).reset_index(drop=True)\n",
    "    \n",
    "    # Datasets and dataloaders\n",
    "    INPUT_SIZE = 300\n",
    "    train_transform = transforms.Compose([\n",
    "        transforms.Resize((INPUT_SIZE, INPUT_SIZE)),\n",
    "        transforms.ToTensor(),\n",
    "        transforms.Normalize(mean=[0.485, 0.456, 0.406], std=[0.229, 0.224, 0.225]) # imagenett\n",
    "    ])\n",
    "    \n",
    "    val_transform = transforms.Compose([\n",
    "        transforms.Resize((INPUT_SIZE, INPUT_SIZE)),\n",
    "        transforms.ToTensor(),\n",
    "        transforms.Normalize(mean=[0.485, 0.456, 0.406], std=[0.229, 0.224, 0.225])\n",
    "    ])\n",
    "    \n",
    "    train_dataset = StreetViewDataset(train_df, transform=train_transform)\n",
    "    val_dataset = StreetViewDataset(val_df, transform=val_transform)\n",
    "    test_dataset = StreetViewDataset(test_df, transform=val_transform)\n",
    "    \n",
    "    batch_size = 32\n",
    "    train_loader = DataLoader(train_dataset, batch_size=batch_size, shuffle=True, num_workers=2)\n",
    "    val_loader = DataLoader(val_dataset, batch_size=batch_size, shuffle=False, num_workers=2)\n",
    "    test_loader = DataLoader(test_dataset, batch_size=batch_size, shuffle=False, num_workers=2)\n",
    "    \n",
    "    # Initialize model\n",
    "    model = EfficientNetClassifier(num_classes=num_bins, model_name='efficientnet_b3')\n",
    "    model = model.to(device)\n",
    "    \n",
    "    criterion = nn.CrossEntropyLoss()\n",
    "    \n",
    "    print(\"1) Feature Extraction\")\n",
    "    for param in model.backbone.parameters():\n",
    "        param.requires_grad = False\n",
    "    \n",
    "    optimizer_stage1 = optim.Adam(model.classifier.parameters(), lr=1e-3)\n",
    "    train_losses_s1, val_losses_s1, train_acc_s1, val_acc_s1 = train_model(\n",
    "        model, train_loader, val_loader, criterion, optimizer_stage1, num_epochs=NUM_EPOCHS_1\n",
    "    )\n",
    "    \n",
    "    print(\"2) Fine-Tuning\")\n",
    "    for param in model.backbone.parameters():\n",
    "        param.requires_grad = True\n",
    "    \n",
    "    optimizer_stage2 = optim.Adam([\n",
    "        {'params': model.classifier.parameters(), 'lr': 1e-4},\n",
    "        {'params': model.backbone.parameters(), 'lr': 1e-5}\n",
    "    ])\n",
    "    \n",
    "    scheduler = StepLR(optimizer_stage2, step_size=5, gamma=0.1)\n",
    "    train_losses_s2, val_losses_s2, train_acc_s2, val_acc_s2 = train_model(\n",
    "        model, train_loader, val_loader, criterion, optimizer_stage2, \n",
    "        num_epochs=NUM_EPOCHS_2, scheduler=scheduler\n",
    "    )\n",
    "    \n",
    "    # Combine metrics\n",
    "    full_train_losses = train_losses_s1 + train_losses_s2\n",
    "    full_val_losses = val_losses_s1 + val_losses_s2\n",
    "    full_train_accs = train_acc_s1 + train_acc_s2\n",
    "    full_val_accs = val_acc_s1 + val_acc_s2\n",
    "    \n",
    "    # Evaluate on test set\n",
    "    model.load_state_dict(torch.load('best_model.pth'))\n",
    "    test_accuracy = evaluate_model(model, test_loader)\n",
    "    \n",
    "    # Store results\n",
    "    results[num_bins] = {\n",
    "        'train_losses': full_train_losses,\n",
    "        'val_losses': full_val_losses,\n",
    "        'train_accuracies': full_train_accs,\n",
    "        'val_accuracies': full_val_accs,\n",
    "        'test_accuracy': test_accuracy\n",
    "    }\n",
    "    \n",
    "    return results[num_bins]\n",
    "\n",
    "def plot_all_results(results):\n",
    "    bin_configs = sorted(results.keys())\n",
    "    random_guess_probs = [100.0 / bins for bins in bin_configs]\n",
    "    \n",
    "    # Calculate ratios\n",
    "    test_accuracies = [results[bins]['test_accuracy'] for bins in bin_configs]\n",
    "    ratios_over_random = [test_acc / random_prob for test_acc, random_prob in zip(test_accuracies, random_guess_probs)]\n",
    "    \n",
    "    # Plot 1: Ratio over Random Guess\n",
    "    plt.figure(figsize=(6, 4))\n",
    "    plt.plot(bin_configs, ratios_over_random, 'o-', linewidth=3, markersize=10, color='blue', markerfacecolor='white', markeredgewidth=2, markeredgecolor='blue')\n",
    "    plt.axhline(y=1.0, color='red', linewidth=2, label='Random Guess Baseline')\n",
    "    plt.title('Performance Ratio Over Random Guess', fontsize=14)\n",
    "    plt.xlabel('Number of Classes', fontsize=14)\n",
    "    plt.ylabel('Test Acc / Random Guess Acc [%]', fontsize=14)\n",
    "    plt.xticks(bin_configs) \n",
    "    plt.tick_params(axis='x', which='major', labelsize=14)\n",
    "    plt.tick_params(axis='y', which='major', labelsize=14)\n",
    "    plt.legend(fontsize=14)\n",
    "    plt.tight_layout()\n",
    "    plt.savefig('ratio_over_random.pdf', bbox_inches='tight')\n",
    "    plt.show()\n",
    "    \n",
    "    # Plot 2: Side-by-side comparison\n",
    "    plt.figure(figsize=(12, 6))\n",
    "    \n",
    "    x = np.arange(len(bin_configs))\n",
    "    width = 0.35\n",
    "    \n",
    "    plt.bar(x - width/2, test_accuracies, width, label='Model Accuracy', color='blue', alpha=0.7)\n",
    "    plt.bar(x + width/2, random_guess_probs, width, label='Random Guess', color='red', alpha=0.7)\n",
    "    plt.title('Model Accuracy vs Random Guess Probability', fontsize=14)\n",
    "    plt.xlabel('Number of Classes',fontsize=14)\n",
    "    plt.ylabel('Accuracy [%]',fontsize=14)\n",
    "    plt.tick_params(axis='x', which='major', labelsize=14)\n",
    "    plt.tick_params(axis='y', which='major', labelsize=14)\n",
    "    plt.legend(fontsize=14)\n",
    "    plt.xticks(x, bin_configs)\n",
    "    \n",
    "    # Annotations\n",
    "    for i, (test_acc, random_prob) in enumerate(zip(test_accuracies, random_guess_probs)):\n",
    "        improvement = test_acc - random_prob\n",
    "        plt.text(i, max(test_acc, random_prob) + 2, f'+{improvement:.1f}%', \n",
    "                ha='center', va='bottom', fontweight='bold')\n",
    "    \n",
    "    plt.tight_layout()\n",
    "    plt.savefig('accuracy_comparison.pdf', bbox_inches='tight')\n",
    "    plt.show()"
   ]
  },
  {
   "cell_type": "code",
   "execution_count": 6,
   "id": "6bd63337",
   "metadata": {
    "execution": {
     "iopub.execute_input": "2025-10-05T18:02:19.777792Z",
     "iopub.status.busy": "2025-10-05T18:02:19.777564Z",
     "iopub.status.idle": "2025-10-05T20:20:32.777215Z",
     "shell.execute_reply": "2025-10-05T20:20:32.776238Z"
    },
    "papermill": {
     "duration": 8293.003458,
     "end_time": "2025-10-05T20:20:32.778670",
     "exception": false,
     "start_time": "2025-10-05T18:02:19.775212",
     "status": "completed"
    },
    "tags": []
   },
   "outputs": [
    {
     "name": "stdout",
     "output_type": "stream",
     "text": [
      "Training 2 bins\n"
     ]
    },
    {
     "data": {
      "application/vnd.jupyter.widget-view+json": {
       "model_id": "a44f521782df4df181821c40a2356021",
       "version_major": 2,
       "version_minor": 0
      },
      "text/plain": [
       "model.safetensors:   0%|          | 0.00/49.3M [00:00<?, ?B/s]"
      ]
     },
     "metadata": {},
     "output_type": "display_data"
    },
    {
     "name": "stdout",
     "output_type": "stream",
     "text": [
      "1) Feature Extraction\n"
     ]
    },
    {
     "name": "stderr",
     "output_type": "stream",
     "text": [
      "100%|██████████| 571/571 [02:39<00:00,  3.59it/s]\n"
     ]
    },
    {
     "name": "stdout",
     "output_type": "stream",
     "text": [
      "\n",
      "Epoch 1/4:\n",
      "  Train Loss: 0.5567528906163646,Train Acc: 72.7496984979717%\n",
      "  Val Loss:   0.5257596047337573, Val Acc:   75.40029112081514%\n",
      "  ↳ New best model saved! (Val Acc: 75.40%)\n"
     ]
    },
    {
     "name": "stderr",
     "output_type": "stream",
     "text": [
      "100%|██████████| 571/571 [01:39<00:00,  5.75it/s]\n"
     ]
    },
    {
     "name": "stdout",
     "output_type": "stream",
     "text": [
      "\n",
      "Epoch 2/4:\n",
      "  Train Loss: 0.5258946247711711,Train Acc: 74.72316631948252%\n",
      "  Val Loss:   0.5147402700378385, Val Acc:   75.47307132459972%\n",
      "  ↳ New best model saved! (Val Acc: 75.47%)\n"
     ]
    },
    {
     "name": "stderr",
     "output_type": "stream",
     "text": [
      "100%|██████████| 571/571 [01:39<00:00,  5.72it/s]\n"
     ]
    },
    {
     "name": "stdout",
     "output_type": "stream",
     "text": [
      "\n",
      "Epoch 3/4:\n",
      "  Train Loss: 0.5117591564206488,Train Acc: 75.6770090998794%\n",
      "  Val Loss:   0.5126298305075588, Val Acc:   75.90975254730714%\n",
      "  ↳ New best model saved! (Val Acc: 75.91%)\n"
     ]
    },
    {
     "name": "stderr",
     "output_type": "stream",
     "text": [
      "100%|██████████| 571/571 [01:39<00:00,  5.72it/s]\n"
     ]
    },
    {
     "name": "stdout",
     "output_type": "stream",
     "text": [
      "\n",
      "Epoch 4/4:\n",
      "  Train Loss: 0.49974626423614404,Train Acc: 76.01140225852429%\n",
      "  Val Loss:   0.5181649350703543, Val Acc:   76.12809315866085%\n",
      "  ↳ New best model saved! (Val Acc: 76.13%)\n",
      "2) Fine-Tuning\n"
     ]
    },
    {
     "name": "stderr",
     "output_type": "stream",
     "text": [
      "100%|██████████| 571/571 [03:48<00:00,  2.49it/s]\n"
     ]
    },
    {
     "name": "stdout",
     "output_type": "stream",
     "text": [
      "\n",
      "Epoch 1/2:\n",
      "  Train Loss: 0.463724693189704,Train Acc: 78.32474509373972%\n",
      "  Val Loss:   0.49908443335362396, Val Acc:   76.27365356622998%\n",
      "  ↳ New best model saved! (Val Acc: 76.27%)\n"
     ]
    },
    {
     "name": "stderr",
     "output_type": "stream",
     "text": [
      "100%|██████████| 571/571 [03:49<00:00,  2.49it/s]\n"
     ]
    },
    {
     "name": "stdout",
     "output_type": "stream",
     "text": [
      "\n",
      "Epoch 2/2:\n",
      "  Train Loss: 0.4170765129702484,Train Acc: 80.93958995724154%\n",
      "  Val Loss:   0.501354213798584, Val Acc:   76.41921397379913%\n",
      "  ↳ New best model saved! (Val Acc: 76.42%)\n",
      "Test Accuracy: 76.13%\n",
      "Training 3 bins\n",
      "1) Feature Extraction\n"
     ]
    },
    {
     "name": "stderr",
     "output_type": "stream",
     "text": [
      "100%|██████████| 571/571 [01:39<00:00,  5.73it/s]\n"
     ]
    },
    {
     "name": "stdout",
     "output_type": "stream",
     "text": [
      "\n",
      "Epoch 1/4:\n",
      "  Train Loss: 0.8299770766029716,Train Acc: 64.86486486486487%\n",
      "  Val Loss:   0.8109427794109692, Val Acc:   63.92727272727273%\n",
      "  ↳ New best model saved! (Val Acc: 63.93%)\n"
     ]
    },
    {
     "name": "stderr",
     "output_type": "stream",
     "text": [
      "100%|██████████| 571/571 [01:38<00:00,  5.80it/s]\n"
     ]
    },
    {
     "name": "stdout",
     "output_type": "stream",
     "text": [
      "\n",
      "Epoch 2/4:\n",
      "  Train Loss: 0.7827593044167868,Train Acc: 66.49306507318677%\n",
      "  Val Loss:   0.7395341155312278, Val Acc:   69.74545454545455%\n",
      "  ↳ New best model saved! (Val Acc: 69.75%)\n"
     ]
    },
    {
     "name": "stderr",
     "output_type": "stream",
     "text": [
      "100%|██████████| 571/571 [01:36<00:00,  5.89it/s]\n"
     ]
    },
    {
     "name": "stdout",
     "output_type": "stream",
     "text": [
      "\n",
      "Epoch 3/4:\n",
      "  Train Loss: 0.7607922218268224,Train Acc: 67.46340661147963%\n",
      "  Val Loss:   0.7234347334775058, Val Acc:   69.67272727272727%\n"
     ]
    },
    {
     "name": "stderr",
     "output_type": "stream",
     "text": [
      "100%|██████████| 571/571 [01:37<00:00,  5.88it/s]\n"
     ]
    },
    {
     "name": "stdout",
     "output_type": "stream",
     "text": [
      "\n",
      "Epoch 4/4:\n",
      "  Train Loss: 0.7292330316542848,Train Acc: 68.99841017488076%\n",
      "  Val Loss:   0.7319525956674056, Val Acc:   69.01818181818182%\n",
      "2) Fine-Tuning\n"
     ]
    },
    {
     "name": "stderr",
     "output_type": "stream",
     "text": [
      "100%|██████████| 571/571 [03:48<00:00,  2.50it/s]\n"
     ]
    },
    {
     "name": "stdout",
     "output_type": "stream",
     "text": [
      "\n",
      "Epoch 1/2:\n",
      "  Train Loss: 0.6733957002785219,Train Acc: 71.56954114357765%\n",
      "  Val Loss:   0.7004863621538335, Val Acc:   71.2%\n",
      "  ↳ New best model saved! (Val Acc: 71.20%)\n"
     ]
    },
    {
     "name": "stderr",
     "output_type": "stream",
     "text": [
      "100%|██████████| 571/571 [03:48<00:00,  2.49it/s]\n"
     ]
    },
    {
     "name": "stdout",
     "output_type": "stream",
     "text": [
      "\n",
      "Epoch 2/2:\n",
      "  Train Loss: 0.6092172368015482,Train Acc: 74.71629844854996%\n",
      "  Val Loss:   0.6767525015744296, Val Acc:   71.85454545454546%\n",
      "  ↳ New best model saved! (Val Acc: 71.85%)\n",
      "Test Accuracy: 68.85%\n",
      "Training 4 bins\n",
      "1) Feature Extraction\n"
     ]
    },
    {
     "name": "stderr",
     "output_type": "stream",
     "text": [
      "100%|██████████| 571/571 [01:38<00:00,  5.78it/s]\n"
     ]
    },
    {
     "name": "stdout",
     "output_type": "stream",
     "text": [
      "\n",
      "Epoch 1/4:\n",
      "  Train Loss: 1.1588843299346459,Train Acc: 49.54772216435502%\n",
      "  Val Loss:   1.1322039201042868, Val Acc:   50.4%\n",
      "  ↳ New best model saved! (Val Acc: 50.40%)\n"
     ]
    },
    {
     "name": "stderr",
     "output_type": "stream",
     "text": [
      "100%|██████████| 571/571 [01:39<00:00,  5.74it/s]\n"
     ]
    },
    {
     "name": "stdout",
     "output_type": "stream",
     "text": [
      "\n",
      "Epoch 2/4:\n",
      "  Train Loss: 1.1014841675764897,Train Acc: 51.87215613179102%\n",
      "  Val Loss:   1.1230914467898283, Val Acc:   51.78181818181818%\n",
      "  ↳ New best model saved! (Val Acc: 51.78%)\n"
     ]
    },
    {
     "name": "stderr",
     "output_type": "stream",
     "text": [
      "100%|██████████| 571/571 [01:38<00:00,  5.77it/s]\n"
     ]
    },
    {
     "name": "stdout",
     "output_type": "stream",
     "text": [
      "\n",
      "Epoch 3/4:\n",
      "  Train Loss: 1.066985286528405,Train Acc: 53.73608903020668%\n",
      "  Val Loss:   1.1016351700696079, Val Acc:   52.50909090909091%\n",
      "  ↳ New best model saved! (Val Acc: 52.51%)\n"
     ]
    },
    {
     "name": "stderr",
     "output_type": "stream",
     "text": [
      "100%|██████████| 571/571 [01:39<00:00,  5.75it/s]\n"
     ]
    },
    {
     "name": "stdout",
     "output_type": "stream",
     "text": [
      "\n",
      "Epoch 4/4:\n",
      "  Train Loss: 1.0347655901528001,Train Acc: 55.188860259854174%\n",
      "  Val Loss:   1.094945068359375, Val Acc:   51.85454545454545%\n",
      "2) Fine-Tuning\n"
     ]
    },
    {
     "name": "stderr",
     "output_type": "stream",
     "text": [
      "100%|██████████| 571/571 [03:49<00:00,  2.49it/s]\n"
     ]
    },
    {
     "name": "stdout",
     "output_type": "stream",
     "text": [
      "\n",
      "Epoch 1/2:\n",
      "  Train Loss: 0.9490403757892113,Train Acc: 60.17213968532427%\n",
      "  Val Loss:   1.056019929192283, Val Acc:   54.10909090909091%\n",
      "  ↳ New best model saved! (Val Acc: 54.11%)\n"
     ]
    },
    {
     "name": "stderr",
     "output_type": "stream",
     "text": [
      "100%|██████████| 571/571 [03:49<00:00,  2.49it/s]\n"
     ]
    },
    {
     "name": "stdout",
     "output_type": "stream",
     "text": [
      "\n",
      "Epoch 2/2:\n",
      "  Train Loss: 0.8692891259875961,Train Acc: 63.757469436982625%\n",
      "  Val Loss:   1.0592586281516336, Val Acc:   55.054545454545455%\n",
      "  ↳ New best model saved! (Val Acc: 55.05%)\n",
      "Test Accuracy: 55.90%\n",
      "Training 6 bins\n",
      "1) Feature Extraction\n"
     ]
    },
    {
     "name": "stderr",
     "output_type": "stream",
     "text": [
      "100%|██████████| 570/570 [01:42<00:00,  5.58it/s]\n"
     ]
    },
    {
     "name": "stdout",
     "output_type": "stream",
     "text": [
      "\n",
      "Epoch 1/4:\n",
      "  Train Loss: 1.4308459631940151,Train Acc: 43.50734810265409%\n",
      "  Val Loss:   1.3543026234329656, Val Acc:   47.421931735657225%\n",
      "  ↳ New best model saved! (Val Acc: 47.42%)\n"
     ]
    },
    {
     "name": "stderr",
     "output_type": "stream",
     "text": [
      "100%|██████████| 570/570 [01:40<00:00,  5.65it/s]\n"
     ]
    },
    {
     "name": "stdout",
     "output_type": "stream",
     "text": [
      "\n",
      "Epoch 2/4:\n",
      "  Train Loss: 1.3472580228047455,Train Acc: 46.468523799078746%\n",
      "  Val Loss:   1.3255919277364998, Val Acc:   46.91358024691358%\n"
     ]
    },
    {
     "name": "stderr",
     "output_type": "stream",
     "text": [
      "100%|██████████| 570/570 [01:40<00:00,  5.65it/s]\n"
     ]
    },
    {
     "name": "stdout",
     "output_type": "stream",
     "text": [
      "\n",
      "Epoch 3/4:\n",
      "  Train Loss: 1.3015184374225848,Train Acc: 48.07523579732398%\n",
      "  Val Loss:   1.3068748287472416, Val Acc:   46.986201888162675%\n"
     ]
    },
    {
     "name": "stderr",
     "output_type": "stream",
     "text": [
      "100%|██████████| 570/570 [01:40<00:00,  5.68it/s]\n"
     ]
    },
    {
     "name": "stdout",
     "output_type": "stream",
     "text": [
      "\n",
      "Epoch 4/4:\n",
      "  Train Loss: 1.2550429736712858,Train Acc: 50.75126124150033%\n",
      "  Val Loss:   1.2830167695414614, Val Acc:   48.438634713144516%\n",
      "  ↳ New best model saved! (Val Acc: 48.44%)\n",
      "2) Fine-Tuning\n"
     ]
    },
    {
     "name": "stderr",
     "output_type": "stream",
     "text": [
      "100%|██████████| 570/570 [03:48<00:00,  2.49it/s]\n"
     ]
    },
    {
     "name": "stdout",
     "output_type": "stream",
     "text": [
      "\n",
      "Epoch 1/2:\n",
      "  Train Loss: 1.1403912652556012,Train Acc: 55.59333187102435%\n",
      "  Val Loss:   1.2504025126334628, Val Acc:   49.5279593318809%\n",
      "  ↳ New best model saved! (Val Acc: 49.53%)\n"
     ]
    },
    {
     "name": "stderr",
     "output_type": "stream",
     "text": [
      "100%|██████████| 570/570 [03:49<00:00,  2.49it/s]\n"
     ]
    },
    {
     "name": "stdout",
     "output_type": "stream",
     "text": [
      "\n",
      "Epoch 2/2:\n",
      "  Train Loss: 1.040211100592951,Train Acc: 59.38802368940557%\n",
      "  Val Loss:   1.2283136957394705, Val Acc:   50.39941902687001%\n",
      "  ↳ New best model saved! (Val Acc: 50.40%)\n",
      "Test Accuracy: 49.82%\n",
      "Training 8 bins\n",
      "1) Feature Extraction\n"
     ]
    },
    {
     "name": "stderr",
     "output_type": "stream",
     "text": [
      "100%|██████████| 570/570 [01:39<00:00,  5.70it/s]\n"
     ]
    },
    {
     "name": "stdout",
     "output_type": "stream",
     "text": [
      "\n",
      "Epoch 1/4:\n",
      "  Train Loss: 1.7023455378883212,Train Acc: 34.60188637859179%\n",
      "  Val Loss:   1.6070016845032713, Val Acc:   36.38344226579521%\n",
      "  ↳ New best model saved! (Val Acc: 36.38%)\n"
     ]
    },
    {
     "name": "stderr",
     "output_type": "stream",
     "text": [
      "100%|██████████| 570/570 [01:40<00:00,  5.69it/s]\n"
     ]
    },
    {
     "name": "stdout",
     "output_type": "stream",
     "text": [
      "\n",
      "Epoch 2/4:\n",
      "  Train Loss: 1.5991572744361557,Train Acc: 37.979820135994736%\n",
      "  Val Loss:   1.5646184789329314, Val Acc:   37.61801016702977%\n",
      "  ↳ New best model saved! (Val Acc: 37.62%)\n"
     ]
    },
    {
     "name": "stderr",
     "output_type": "stream",
     "text": [
      "100%|██████████| 570/570 [01:41<00:00,  5.62it/s]\n"
     ]
    },
    {
     "name": "stdout",
     "output_type": "stream",
     "text": [
      "\n",
      "Epoch 3/4:\n",
      "  Train Loss: 1.5340438790163415,Train Acc: 40.86422461066023%\n",
      "  Val Loss:   1.5445847262830603, Val Acc:   39.79665940450254%\n",
      "  ↳ New best model saved! (Val Acc: 39.80%)\n"
     ]
    },
    {
     "name": "stderr",
     "output_type": "stream",
     "text": [
      "100%|██████████| 570/570 [01:41<00:00,  5.59it/s]\n"
     ]
    },
    {
     "name": "stdout",
     "output_type": "stream",
     "text": [
      "\n",
      "Epoch 4/4:\n",
      "  Train Loss: 1.48206833565175,Train Acc: 42.86576003509541%\n",
      "  Val Loss:   1.5403630388934455, Val Acc:   38.85257806826434%\n",
      "2) Fine-Tuning\n"
     ]
    },
    {
     "name": "stderr",
     "output_type": "stream",
     "text": [
      "100%|██████████| 570/570 [03:49<00:00,  2.48it/s]\n"
     ]
    },
    {
     "name": "stdout",
     "output_type": "stream",
     "text": [
      "\n",
      "Epoch 1/2:\n",
      "  Train Loss: 1.352068517547502,Train Acc: 48.66198727791182%\n",
      "  Val Loss:   1.4833138050510126, Val Acc:   42.0479302832244%\n",
      "  ↳ New best model saved! (Val Acc: 42.05%)\n"
     ]
    },
    {
     "name": "stderr",
     "output_type": "stream",
     "text": [
      "100%|██████████| 570/570 [03:49<00:00,  2.48it/s]\n"
     ]
    },
    {
     "name": "stdout",
     "output_type": "stream",
     "text": [
      "\n",
      "Epoch 2/2:\n",
      "  Train Loss: 1.251015273043136,Train Acc: 53.01601228339548%\n",
      "  Val Loss:   1.4614859430705107, Val Acc:   44.00871459694989%\n",
      "  ↳ New best model saved! (Val Acc: 44.01%)\n",
      "Test Accuracy: 40.67%\n",
      "Training 10 bins\n",
      "1) Feature Extraction\n"
     ]
    },
    {
     "name": "stderr",
     "output_type": "stream",
     "text": [
      "100%|██████████| 570/570 [01:40<00:00,  5.66it/s]\n"
     ]
    },
    {
     "name": "stdout",
     "output_type": "stream",
     "text": [
      "\n",
      "Epoch 1/4:\n",
      "  Train Loss: 1.8823993074223178,Train Acc: 30.881869035867062%\n",
      "  Val Loss:   1.79192227272233, Val Acc:   32.94629898403483%\n",
      "  ↳ New best model saved! (Val Acc: 32.95%)\n"
     ]
    },
    {
     "name": "stderr",
     "output_type": "stream",
     "text": [
      "100%|██████████| 570/570 [01:39<00:00,  5.76it/s]\n"
     ]
    },
    {
     "name": "stdout",
     "output_type": "stream",
     "text": [
      "\n",
      "Epoch 2/4:\n",
      "  Train Loss: 1.7645115760042962,Train Acc: 34.89634748272458%\n",
      "  Val Loss:   1.737974385564663, Val Acc:   35.268505079825836%\n",
      "  ↳ New best model saved! (Val Acc: 35.27%)\n"
     ]
    },
    {
     "name": "stderr",
     "output_type": "stream",
     "text": [
      "100%|██████████| 570/570 [01:38<00:00,  5.76it/s]\n"
     ]
    },
    {
     "name": "stdout",
     "output_type": "stream",
     "text": [
      "\n",
      "Epoch 3/4:\n",
      "  Train Loss: 1.6964476189619095,Train Acc: 37.205221015684984%\n",
      "  Val Loss:   1.7267201971073456, Val Acc:   34.76052249637155%\n"
     ]
    },
    {
     "name": "stderr",
     "output_type": "stream",
     "text": [
      "100%|██████████| 570/570 [01:38<00:00,  5.78it/s]\n"
     ]
    },
    {
     "name": "stdout",
     "output_type": "stream",
     "text": [
      "\n",
      "Epoch 4/4:\n",
      "  Train Loss: 1.6360536429054893,Train Acc: 39.51409454864539%\n",
      "  Val Loss:   1.7020142773931362, Val Acc:   37.22786647314949%\n",
      "  ↳ New best model saved! (Val Acc: 37.23%)\n",
      "2) Fine-Tuning\n"
     ]
    },
    {
     "name": "stderr",
     "output_type": "stream",
     "text": [
      "100%|██████████| 570/570 [03:49<00:00,  2.49it/s]\n"
     ]
    },
    {
     "name": "stdout",
     "output_type": "stream",
     "text": [
      "\n",
      "Epoch 1/2:\n",
      "  Train Loss: 1.48671069999817,Train Acc: 45.95810025227597%\n",
      "  Val Loss:   1.6298735228263068, Val Acc:   40.638606676342526%\n",
      "  ↳ New best model saved! (Val Acc: 40.64%)\n"
     ]
    },
    {
     "name": "stderr",
     "output_type": "stream",
     "text": [
      "100%|██████████| 570/570 [03:48<00:00,  2.49it/s]\n"
     ]
    },
    {
     "name": "stdout",
     "output_type": "stream",
     "text": [
      "\n",
      "Epoch 2/2:\n",
      "  Train Loss: 1.3837430057418938,Train Acc: 49.53383788526928%\n",
      "  Val Loss:   1.6058241777738396, Val Acc:   40.711175616835995%\n",
      "  ↳ New best model saved! (Val Acc: 40.71%)\n",
      "Test Accuracy: 39.40%\n",
      "Training 12 bins\n",
      "1) Feature Extraction\n"
     ]
    },
    {
     "name": "stderr",
     "output_type": "stream",
     "text": [
      "100%|██████████| 570/570 [01:39<00:00,  5.73it/s]\n"
     ]
    },
    {
     "name": "stdout",
     "output_type": "stream",
     "text": [
      "\n",
      "Epoch 1/4:\n",
      "  Train Loss: 1.9553206628177253,Train Acc: 30.843479214653943%\n",
      "  Val Loss:   1.8405839369155153, Val Acc:   34.034833091436866%\n",
      "  ↳ New best model saved! (Val Acc: 34.03%)\n"
     ]
    },
    {
     "name": "stderr",
     "output_type": "stream",
     "text": [
      "100%|██████████| 570/570 [01:39<00:00,  5.72it/s]\n"
     ]
    },
    {
     "name": "stdout",
     "output_type": "stream",
     "text": [
      "\n",
      "Epoch 2/4:\n",
      "  Train Loss: 1.819335609174316,Train Acc: 35.247340133815946%\n",
      "  Val Loss:   1.7978802896895498, Val Acc:   35.341074020319304%\n",
      "  ↳ New best model saved! (Val Acc: 35.34%)\n"
     ]
    },
    {
     "name": "stderr",
     "output_type": "stream",
     "text": [
      "100%|██████████| 570/570 [01:40<00:00,  5.69it/s]\n"
     ]
    },
    {
     "name": "stdout",
     "output_type": "stream",
     "text": [
      "\n",
      "Epoch 3/4:\n",
      "  Train Loss: 1.7508037896405793,Train Acc: 37.53427662608314%\n",
      "  Val Loss:   1.7647133053473707, Val Acc:   35.1233671988389%\n"
     ]
    },
    {
     "name": "stderr",
     "output_type": "stream",
     "text": [
      "100%|██████████| 570/570 [01:38<00:00,  5.78it/s]\n"
     ]
    },
    {
     "name": "stdout",
     "output_type": "stream",
     "text": [
      "\n",
      "Epoch 4/4:\n",
      "  Train Loss: 1.6797754206756261,Train Acc: 39.47022046725897%\n",
      "  Val Loss:   1.7568705306862884, Val Acc:   36.71988388969521%\n",
      "  ↳ New best model saved! (Val Acc: 36.72%)\n",
      "2) Fine-Tuning\n"
     ]
    },
    {
     "name": "stderr",
     "output_type": "stream",
     "text": [
      "100%|██████████| 570/570 [03:48<00:00,  2.49it/s]\n"
     ]
    },
    {
     "name": "stdout",
     "output_type": "stream",
     "text": [
      "\n",
      "Epoch 1/2:\n",
      "  Train Loss: 1.5255578636953127,Train Acc: 45.33837885269277%\n",
      "  Val Loss:   1.6877989187642002, Val Acc:   38.46153846153846%\n",
      "  ↳ New best model saved! (Val Acc: 38.46%)\n"
     ]
    },
    {
     "name": "stderr",
     "output_type": "stream",
     "text": [
      "100%|██████████| 570/570 [03:48<00:00,  2.49it/s]\n"
     ]
    },
    {
     "name": "stdout",
     "output_type": "stream",
     "text": [
      "\n",
      "Epoch 2/2:\n",
      "  Train Loss: 1.409821442230838,Train Acc: 50.071295382252934%\n",
      "  Val Loss:   1.6660067509151508, Val Acc:   39.55007256894049%\n",
      "  ↳ New best model saved! (Val Acc: 39.55%)\n",
      "Test Accuracy: 39.84%\n",
      "Training 16 bins\n",
      "1) Feature Extraction\n"
     ]
    },
    {
     "name": "stderr",
     "output_type": "stream",
     "text": [
      "100%|██████████| 570/570 [01:41<00:00,  5.62it/s]\n"
     ]
    },
    {
     "name": "stdout",
     "output_type": "stream",
     "text": [
      "\n",
      "Epoch 1/4:\n",
      "  Train Loss: 2.0096861194131037,Train Acc: 31.384379113646336%\n",
      "  Val Loss:   1.8801578735423485, Val Acc:   34.735315445975345%\n",
      "  ↳ New best model saved! (Val Acc: 34.74%)\n"
     ]
    },
    {
     "name": "stderr",
     "output_type": "stream",
     "text": [
      "100%|██████████| 570/570 [01:41<00:00,  5.61it/s]\n"
     ]
    },
    {
     "name": "stdout",
     "output_type": "stream",
     "text": [
      "\n",
      "Epoch 2/4:\n",
      "  Train Loss: 1.8683040825198125,Train Acc: 35.08117595436595%\n",
      "  Val Loss:   1.822082903525205, Val Acc:   36.9108049311095%\n",
      "  ↳ New best model saved! (Val Acc: 36.91%)\n"
     ]
    },
    {
     "name": "stderr",
     "output_type": "stream",
     "text": [
      "100%|██████████| 570/570 [01:39<00:00,  5.73it/s]\n"
     ]
    },
    {
     "name": "stdout",
     "output_type": "stream",
     "text": [
      "\n",
      "Epoch 3/4:\n",
      "  Train Loss: 1.7849559221627578,Train Acc: 37.82909170688899%\n",
      "  Val Loss:   1.7920054374526082, Val Acc:   37.20087019579405%\n",
      "  ↳ New best model saved! (Val Acc: 37.20%)\n"
     ]
    },
    {
     "name": "stderr",
     "output_type": "stream",
     "text": [
      "100%|██████████| 570/570 [01:37<00:00,  5.82it/s]\n"
     ]
    },
    {
     "name": "stdout",
     "output_type": "stream",
     "text": [
      "\n",
      "Epoch 4/4:\n",
      "  Train Loss: 1.7178101981088958,Train Acc: 39.94624835454147%\n",
      "  Val Loss:   1.8116177082753337, Val Acc:   37.56345177664975%\n",
      "  ↳ New best model saved! (Val Acc: 37.56%)\n",
      "2) Fine-Tuning\n"
     ]
    },
    {
     "name": "stderr",
     "output_type": "stream",
     "text": [
      "100%|██████████| 570/570 [03:49<00:00,  2.49it/s]\n"
     ]
    },
    {
     "name": "stdout",
     "output_type": "stream",
     "text": [
      "\n",
      "Epoch 1/2:\n",
      "  Train Loss: 1.5531565741835691,Train Acc: 45.51338306274682%\n",
      "  Val Loss:   1.715586854203012, Val Acc:   41.04423495286439%\n",
      "  ↳ New best model saved! (Val Acc: 41.04%)\n"
     ]
    },
    {
     "name": "stderr",
     "output_type": "stream",
     "text": [
      "100%|██████████| 570/570 [03:48<00:00,  2.49it/s]\n"
     ]
    },
    {
     "name": "stdout",
     "output_type": "stream",
     "text": [
      "\n",
      "Epoch 2/2:\n",
      "  Train Loss: 1.4390917792556683,Train Acc: 49.31987713909609%\n",
      "  Val Loss:   1.7020097442776332, Val Acc:   42.567077592458304%\n",
      "  ↳ New best model saved! (Val Acc: 42.57%)\n",
      "Test Accuracy: 39.52%\n",
      "Training 20 bins\n",
      "1) Feature Extraction\n"
     ]
    },
    {
     "name": "stderr",
     "output_type": "stream",
     "text": [
      "100%|██████████| 570/570 [01:40<00:00,  5.65it/s]\n"
     ]
    },
    {
     "name": "stdout",
     "output_type": "stream",
     "text": [
      "\n",
      "Epoch 1/4:\n",
      "  Train Loss: 2.317012812094783,Train Acc: 23.544900981951834%\n",
      "  Val Loss:   2.157583674687048, Val Acc:   28.747284576393916%\n",
      "  ↳ New best model saved! (Val Acc: 28.75%)\n"
     ]
    },
    {
     "name": "stderr",
     "output_type": "stream",
     "text": [
      "100%|██████████| 570/570 [01:38<00:00,  5.81it/s]\n"
     ]
    },
    {
     "name": "stdout",
     "output_type": "stream",
     "text": [
      "\n",
      "Epoch 2/4:\n",
      "  Train Loss: 2.1538514902603607,Train Acc: 27.8128257172637%\n",
      "  Val Loss:   2.0838348149044803, Val Acc:   29.39898624185373%\n",
      "  ↳ New best model saved! (Val Acc: 29.40%)\n"
     ]
    },
    {
     "name": "stderr",
     "output_type": "stream",
     "text": [
      "100%|██████████| 570/570 [01:38<00:00,  5.76it/s]\n"
     ]
    },
    {
     "name": "stdout",
     "output_type": "stream",
     "text": [
      "\n",
      "Epoch 3/4:\n",
      "  Train Loss: 2.0636101801767253,Train Acc: 30.385649240221625%\n",
      "  Val Loss:   2.0769503330683725, Val Acc:   30.702389572773352%\n",
      "  ↳ New best model saved! (Val Acc: 30.70%)\n"
     ]
    },
    {
     "name": "stderr",
     "output_type": "stream",
     "text": [
      "100%|██████████| 570/570 [01:39<00:00,  5.72it/s]\n"
     ]
    },
    {
     "name": "stdout",
     "output_type": "stream",
     "text": [
      "\n",
      "Epoch 4/4:\n",
      "  Train Loss: 1.97728021933274,Train Acc: 33.353447802951344%\n",
      "  Val Loss:   2.055584631649849, Val Acc:   29.471397538015932%\n",
      "2) Fine-Tuning\n"
     ]
    },
    {
     "name": "stderr",
     "output_type": "stream",
     "text": [
      "100%|██████████| 570/570 [03:49<00:00,  2.49it/s]\n"
     ]
    },
    {
     "name": "stdout",
     "output_type": "stream",
     "text": [
      "\n",
      "Epoch 1/2:\n",
      "  Train Loss: 1.7857569525681178,Train Acc: 39.71144879038894%\n",
      "  Val Loss:   1.9665149818892758, Val Acc:   31.13685734974656%\n",
      "  ↳ New best model saved! (Val Acc: 31.14%)\n"
     ]
    },
    {
     "name": "stderr",
     "output_type": "stream",
     "text": [
      "100%|██████████| 570/570 [03:49<00:00,  2.49it/s]\n"
     ]
    },
    {
     "name": "stdout",
     "output_type": "stream",
     "text": [
      "\n",
      "Epoch 2/2:\n",
      "  Train Loss: 1.6630732847244927,Train Acc: 44.100060343408856%\n",
      "  Val Loss:   1.9525330520729325, Val Acc:   32.440260680666185%\n",
      "  ↳ New best model saved! (Val Acc: 32.44%)\n",
      "Test Accuracy: 30.51%\n"
     ]
    },
    {
     "data": {
      "image/png": "[encoded data removed]",
      "text/plain": [
       "<Figure size 600x400 with 1 Axes>"
      ]
     },
     "metadata": {},
     "output_type": "display_data"
    },
    {
     "data": {
      "image/png": "[encoded data removed]",
      "text/plain": [
       "<Figure size 1200x600 with 1 Axes>"
      ]
     },
     "metadata": {},
     "output_type": "display_data"
    }
   ],
   "source": [
    "# Define the bin configurations\n",
    "bin_configs = [2, 3, 4, 6, 8, 10, 12, 16, 20]\n",
    "results = {}\n",
    "\n",
    "# Run experiments for all bin configurations\n",
    "for num_bins in bin_configs:\n",
    "    results[num_bins] = run_experiment(num_bins)\n",
    "\n",
    "# Plot all results together\n",
    "plot_all_results(results)"
   ]
  }
 ],
 "metadata": {
  "kaggle": {
   "accelerator": "gpu",
   "dataSources": [
    {
     "datasetId": 8392963,
     "sourceId": 13245687,
     "sourceType": "datasetVersion"
    },
    {
     "datasetId": 8393022,
     "sourceId": 13245811,
     "sourceType": "datasetVersion"
    }
   ],
   "isGpuEnabled": true,
   "isInternetEnabled": true,
   "language": "python",
   "sourceType": "notebook"
  },
  "kernelspec": {
   "display_name": "Python 3",
   "language": "python",
   "name": "python3"
  },
  "language_info": {
   "codemirror_mode": {
    "name": "ipython",
    "version": 3
   },
   "file_extension": ".py",
   "mimetype": "text/x-python",
   "name": "python",
   "nbconvert_exporter": "python",
   "pygments_lexer": "ipython3",
   "version": "3.11.13"
  },
  "papermill": {
   "default_parameters": {},
   "duration": 8317.486869,
   "end_time": "2025-10-05T20:20:37.084965",
   "environment_variables": {},
   "exception": null,
   "input_path": "__notebook__.ipynb",
   "output_path": "__notebook__.ipynb",
   "parameters": {},
   "start_time": "2025-10-05T18:01:59.598096",
   "version": "2.6.0"
  },
  "widgets": {
   "application/vnd.jupyter.widget-state+json": {
    "state": {
     "182fa8bd30ce4c94b22b0905f10ff4dc": {
      "model_module": "@jupyter-widgets/controls",
      "model_module_version": "2.0.0",
      "model_name": "ProgressStyleModel",
      "state": {
       "_model_module": "@jupyter-widgets/controls",
       "_model_module_version": "2.0.0",
       "_model_name": "ProgressStyleModel",
       "_view_count": null,
       "_view_module": "@jupyter-widgets/base",
       "_view_module_version": "2.0.0",
       "_view_name": "StyleView",
       "bar_color": null,
       "description_width": ""
      }
     },
     "3938b28a32954b9e80833174b9eb7a7d": {
      "model_module": "@jupyter-widgets/base",
      "model_module_version": "2.0.0",
      "model_name": "LayoutModel",
      "state": {
       "_model_module": "@jupyter-widgets/base",
       "_model_module_version": "2.0.0",
       "_model_name": "LayoutModel",
       "_view_count": null,
       "_view_module": "@jupyter-widgets/base",
       "_view_module_version": "2.0.0",
       "_view_name": "LayoutView",
       "align_content": null,
       "align_items": null,
       "align_self": null,
       "border_bottom": null,
       "border_left": null,
       "border_right": null,
       "border_top": null,
       "bottom": null,
       "display": null,
       "flex": null,
       "flex_flow": null,
       "grid_area": null,
       "grid_auto_columns": null,
       "grid_auto_flow": null,
       "grid_auto_rows": null,
       "grid_column": null,
       "grid_gap": null,
       "grid_row": null,
       "grid_template_areas": null,
       "grid_template_columns": null,
       "grid_template_rows": null,
       "height": null,
       "justify_content": null,
       "justify_items": null,
       "left": null,
       "margin": null,
       "max_height": null,
       "max_width": null,
       "min_height": null,
       "min_width": null,
       "object_fit": null,
       "object_position": null,
       "order": null,
       "overflow": null,
       "padding": null,
       "right": null,
       "top": null,
       "visibility": null,
       "width": null
      }
     },
     "4a3089fe3b4f421d9a155e93fb756b69": {
      "model_module": "@jupyter-widgets/controls",
      "model_module_version": "2.0.0",
      "model_name": "HTMLStyleModel",
      "state": {
       "_model_module": "@jupyter-widgets/controls",
       "_model_module_version": "2.0.0",
       "_model_name": "HTMLStyleModel",
       "_view_count": null,
       "_view_module": "@jupyter-widgets/base",
       "_view_module_version": "2.0.0",
       "_view_name": "StyleView",
       "background": null,
       "description_width": "",
       "font_size": null,
       "text_color": null
      }
     },
     "556a943883754616af7a71e7dc23be9d": {
      "model_module": "@jupyter-widgets/base",
      "model_module_version": "2.0.0",
      "model_name": "LayoutModel",
      "state": {
       "_model_module": "@jupyter-widgets/base",
       "_model_module_version": "2.0.0",
       "_model_name": "LayoutModel",
       "_view_count": null,
       "_view_module": "@jupyter-widgets/base",
       "_view_module_version": "2.0.0",
       "_view_name": "LayoutView",
       "align_content": null,
       "align_items": null,
       "align_self": null,
       "border_bottom": null,
       "border_left": null,
       "border_right": null,
       "border_top": null,
       "bottom": null,
       "display": null,
       "flex": null,
       "flex_flow": null,
       "grid_area": null,
       "grid_auto_columns": null,
       "grid_auto_flow": null,
       "grid_auto_rows": null,
       "grid_column": null,
       "grid_gap": null,
       "grid_row": null,
       "grid_template_areas": null,
       "grid_template_columns": null,
       "grid_template_rows": null,
       "height": null,
       "justify_content": null,
       "justify_items": null,
       "left": null,
       "margin": null,
       "max_height": null,
       "max_width": null,
       "min_height": null,
       "min_width": null,
       "object_fit": null,
       "object_position": null,
       "order": null,
       "overflow": null,
       "padding": null,
       "right": null,
       "top": null,
       "visibility": null,
       "width": null
      }
     },
     "7e50adfb44fe46e9b381bdf79c18320f": {
      "model_module": "@jupyter-widgets/controls",
      "model_module_version": "2.0.0",
      "model_name": "FloatProgressModel",
      "state": {
       "_dom_classes": [],
       "_model_module": "@jupyter-widgets/controls",
       "_model_module_version": "2.0.0",
       "_model_name": "FloatProgressModel",
       "_view_count": null,
       "_view_module": "@jupyter-widgets/controls",
       "_view_module_version": "2.0.0",
       "_view_name": "ProgressView",
       "bar_style": "success",
       "description": "",
       "description_allow_html": false,
       "layout": "IPY_MODEL_e62b594b3b4e47e4875a6a58928fec03",
       "max": 49335454.0,
       "min": 0.0,
       "orientation": "horizontal",
       "style": "IPY_MODEL_182fa8bd30ce4c94b22b0905f10ff4dc",
       "tabbable": null,
       "tooltip": null,
       "value": 49335454.0
      }
     },
     "85716556e5f540c48a7988c862dcdce9": {
      "model_module": "@jupyter-widgets/controls",
      "model_module_version": "2.0.0",
      "model_name": "HTMLStyleModel",
      "state": {
       "_model_module": "@jupyter-widgets/controls",
       "_model_module_version": "2.0.0",
       "_model_name": "HTMLStyleModel",
       "_view_count": null,
       "_view_module": "@jupyter-widgets/base",
       "_view_module_version": "2.0.0",
       "_view_name": "StyleView",
       "background": null,
       "description_width": "",
       "font_size": null,
       "text_color": null
      }
     },
     "a44f521782df4df181821c40a2356021": {
      "model_module": "@jupyter-widgets/controls",
      "model_module_version": "2.0.0",
      "model_name": "HBoxModel",
      "state": {
       "_dom_classes": [],
       "_model_module": "@jupyter-widgets/controls",
       "_model_module_version": "2.0.0",
       "_model_name": "HBoxModel",
       "_view_count": null,
       "_view_module": "@jupyter-widgets/controls",
       "_view_module_version": "2.0.0",
       "_view_name": "HBoxView",
       "box_style": "",
       "children": [
        "IPY_MODEL_a805d1eeff50461f9f7ddc7bffcf287e",
        "IPY_MODEL_7e50adfb44fe46e9b381bdf79c18320f",
        "IPY_MODEL_d021363487434f688b83818e15d83058"
       ],
       "layout": "IPY_MODEL_556a943883754616af7a71e7dc23be9d",
       "tabbable": null,
       "tooltip": null
      }
     },
     "a805d1eeff50461f9f7ddc7bffcf287e": {
      "model_module": "@jupyter-widgets/controls",
      "model_module_version": "2.0.0",
      "model_name": "HTMLModel",
      "state": {
       "_dom_classes": [],
       "_model_module": "@jupyter-widgets/controls",
       "_model_module_version": "2.0.0",
       "_model_name": "HTMLModel",
       "_view_count": null,
       "_view_module": "@jupyter-widgets/controls",
       "_view_module_version": "2.0.0",
       "_view_name": "HTMLView",
       "description": "",
       "description_allow_html": false,
       "layout": "IPY_MODEL_3938b28a32954b9e80833174b9eb7a7d",
       "placeholder": "​",
       "style": "IPY_MODEL_85716556e5f540c48a7988c862dcdce9",
       "tabbable": null,
       "tooltip": null,
       "value": "model.safetensors: 100%"
      }
     },
     "d021363487434f688b83818e15d83058": {
      "model_module": "@jupyter-widgets/controls",
      "model_module_version": "2.0.0",
      "model_name": "HTMLModel",
      "state": {
       "_dom_classes": [],
       "_model_module": "@jupyter-widgets/controls",
       "_model_module_version": "2.0.0",
       "_model_name": "HTMLModel",
       "_view_count": null,
       "_view_module": "@jupyter-widgets/controls",
       "_view_module_version": "2.0.0",
       "_view_name": "HTMLView",
       "description": "",
       "description_allow_html": false,
       "layout": "IPY_MODEL_dd976b57e04e49d680a8e33e00cf2ae0",
       "placeholder": "​",
       "style": "IPY_MODEL_4a3089fe3b4f421d9a155e93fb756b69",
       "tabbable": null,
       "tooltip": null,
       "value": " 49.3M/49.3M [00:01&lt;00:00, 46.8MB/s]"
      }
     },
     "dd976b57e04e49d680a8e33e00cf2ae0": {
      "model_module": "@jupyter-widgets/base",
      "model_module_version": "2.0.0",
      "model_name": "LayoutModel",
      "state": {
       "_model_module": "@jupyter-widgets/base",
       "_model_module_version": "2.0.0",
       "_model_name": "LayoutModel",
       "_view_count": null,
       "_view_module": "@jupyter-widgets/base",
       "_view_module_version": "2.0.0",
       "_view_name": "LayoutView",
       "align_content": null,
       "align_items": null,
       "align_self": null,
       "border_bottom": null,
       "border_left": null,
       "border_right": null,
       "border_top": null,
       "bottom": null,
       "display": null,
       "flex": null,
       "flex_flow": null,
       "grid_area": null,
       "grid_auto_columns": null,
       "grid_auto_flow": null,
       "grid_auto_rows": null,
       "grid_column": null,
       "grid_gap": null,
       "grid_row": null,
       "grid_template_areas": null,
       "grid_template_columns": null,
       "grid_template_rows": null,
       "height": null,
       "justify_content": null,
       "justify_items": null,
       "left": null,
       "margin": null,
       "max_height": null,
       "max_width": null,
       "min_height": null,
       "min_width": null,
       "object_fit": null,
       "object_position": null,
       "order": null,
       "overflow": null,
       "padding": null,
       "right": null,
       "top": null,
       "visibility": null,
       "width": null
      }
     },
     "e62b594b3b4e47e4875a6a58928fec03": {
      "model_module": "@jupyter-widgets/base",
      "model_module_version": "2.0.0",
      "model_name": "LayoutModel",
      "state": {
       "_model_module": "@jupyter-widgets/base",
       "_model_module_version": "2.0.0",
       "_model_name": "LayoutModel",
       "_view_count": null,
       "_view_module": "@jupyter-widgets/base",
       "_view_module_version": "2.0.0",
       "_view_name": "LayoutView",
       "align_content": null,
       "align_items": null,
       "align_self": null,
       "border_bottom": null,
       "border_left": null,
       "border_right": null,
       "border_top": null,
       "bottom": null,
       "display": null,
       "flex": null,
       "flex_flow": null,
       "grid_area": null,
       "grid_auto_columns": null,
       "grid_auto_flow": null,
       "grid_auto_rows": null,
       "grid_column": null,
       "grid_gap": null,
       "grid_row": null,
       "grid_template_areas": null,
       "grid_template_columns": null,
       "grid_template_rows": null,
       "height": null,
       "justify_content": null,
       "justify_items": null,
       "left": null,
       "margin": null,
       "max_height": null,
       "max_width": null,
       "min_height": null,
       "min_width": null,
       "object_fit": null,
       "object_position": null,
       "order": null,
       "overflow": null,
       "padding": null,
       "right": null,
       "top": null,
       "visibility": null,
       "width": null
      }
     }
    },
    "version_major": 2,
    "version_minor": 0
   }
  }
 },
 "nbformat": 4,
 "nbformat_minor": 5
}
